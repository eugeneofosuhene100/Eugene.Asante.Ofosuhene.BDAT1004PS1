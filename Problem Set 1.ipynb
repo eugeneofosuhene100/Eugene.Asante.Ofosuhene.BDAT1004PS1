{
 "cells": [
  {
   "cell_type": "markdown",
   "id": "910b2a50-3631-42ec-8d40-963299692db5",
   "metadata": {},
   "source": [
    "# PROBLEM SET 1\n",
    "# Question 1\n",
    "\n",
    "The data types are: "
   ]
  },
  {
   "cell_type": "code",
   "execution_count": 53,
   "id": "10075d0d-30dd-4d7f-a90c-bb4b6de71410",
   "metadata": {},
   "outputs": [
    {
     "name": "stdout",
     "output_type": "stream",
     "text": [
      "<class 'int'>\n",
      "<class 'float'>\n",
      "<class 'bool'>\n",
      "<class 'str'>\n",
      "<class 'int'>\n",
      "<class 'str'>\n",
      "<class 'str'>\n",
      "<class 'float'>\n",
      "<class 'int'>\n",
      "<class 'set'>\n",
      "<class 'bool'>\n",
      "<class 'float'>\n"
     ]
    }
   ],
   "source": [
    "print(type(5))\n",
    "print(type(5.0))\n",
    "print(type(5 > 1))\n",
    "print(type('5'))\n",
    "print(type(5*2))\n",
    "print(type('5'*2))\n",
    "print(type('5'+'2'))\n",
    "print(type(5/2))\n",
    "print(type(5%2))\n",
    "print(type({5,2,1}))\n",
    "print(type(5 == 3))\n",
    "\n",
    "import math\n",
    "print(type(math.pi))\n"
   ]
  },
  {
   "cell_type": "markdown",
   "id": "19afdcaf-9036-46e4-aa4e-8cd53921d9f4",
   "metadata": {},
   "source": [
    "From the above, the variable types are integers, float, boolean, string, integers, string, string. float, integers, set, boolean and float"
   ]
  },
  {
   "cell_type": "markdown",
   "id": "274f3a8e-a8f6-47c1-9195-92a969200fac",
   "metadata": {},
   "source": [
    "# Question 2\n",
    "\n",
    "'Supercalifraglisiticexpialidocious'\n",
    "\n",
    "A. How many letters are there in 'Supercalifragilisticexpialidocious'?"
   ]
  },
  {
   "cell_type": "code",
   "execution_count": 9,
   "id": "c7cba6c3-7485-44b6-97ad-cd0a44a25a21",
   "metadata": {},
   "outputs": [
    {
     "name": "stdout",
     "output_type": "stream",
     "text": [
      "34\n"
     ]
    }
   ],
   "source": [
    "K='Supercalifragilisticexpialidocious'\n",
    "print(len(K))"
   ]
  },
  {
   "cell_type": "markdown",
   "id": "a38ca08d-6d9f-483d-a82f-b73c45a8c761",
   "metadata": {},
   "source": [
    "B. Does 'Supercalifragilisticexpialidocious' contain 'ice' as a substring?"
   ]
  },
  {
   "cell_type": "code",
   "execution_count": 10,
   "id": "60aa144c-b59f-4420-b7e3-820c4d701e1a",
   "metadata": {},
   "outputs": [
    {
     "name": "stdout",
     "output_type": "stream",
     "text": [
      "True\n"
     ]
    }
   ],
   "source": [
    "print('ice'in K)"
   ]
  },
  {
   "cell_type": "markdown",
   "id": "187ef0d6-a670-413b-9072-248b4f930242",
   "metadata": {},
   "source": [
    "C. Which of the following words is the longest: \n",
    "Supercalifragilisticexpialidocious, Honorificabilitudinitatibus, or \n",
    "Bababadalgharaghtakamminarronnkonn? "
   ]
  },
  {
   "cell_type": "code",
   "execution_count": 11,
   "id": "c75753a7-fd71-4e9d-b7c0-f0221e0e4837",
   "metadata": {},
   "outputs": [
    {
     "name": "stdout",
     "output_type": "stream",
     "text": [
      "Supercalifragilisticexpialidocious\n"
     ]
    }
   ],
   "source": [
    "c=['Supercalifragilisticexpialidocious', 'Honorificabilitudinitatibus', 'Bababadalgharaghtakamminarronnkonn']\n",
    "print(max(c))"
   ]
  },
  {
   "cell_type": "markdown",
   "id": "8b0f343e-7e00-44f6-805e-7b17433d8fe9",
   "metadata": {},
   "source": [
    "D. Which composer comes first in the dictionary: 'Berlioz', 'Borodin', 'Brian', \r\n",
    "'Bartok', 'Bellini', 'Buxtehude', 'Bernstein'. Which one comes last?"
   ]
  },
  {
   "cell_type": "code",
   "execution_count": 16,
   "id": "f3504c19-962a-4fe8-909a-9818a8de0259",
   "metadata": {},
   "outputs": [
    {
     "name": "stdout",
     "output_type": "stream",
     "text": [
      "Bartok\n",
      "Buxtehude\n"
     ]
    }
   ],
   "source": [
    "m=['Berlioz', 'Borodin', 'Brian', 'Bartok', 'Bellini', 'Buxtehude', 'Bernstein']\n",
    "m.sort()\n",
    "print(m[0])\n",
    "print(m[-1])"
   ]
  },
  {
   "cell_type": "markdown",
   "id": "0fc8cdda-357e-4629-ab76-ad0926f2148d",
   "metadata": {},
   "source": [
    "# Question 3\n",
    "Implement function triangleArea(a,b,c) that takes as input the lengths of the 3\r\n",
    "sides of a triangle and returns the area of the triangle. By Heron's formula, the area of a triangle with side lengths a, b, and c iss(s a)(s -b)(s -c), where s = (a+b+c)/2. 72\n",
    "c5688772"
   ]
  },
  {
   "cell_type": "code",
   "execution_count": 22,
   "id": "283b4a22-e402-4f4e-9cae-63ec8f658619",
   "metadata": {},
   "outputs": [
    {
     "name": "stdin",
     "output_type": "stream",
     "text": [
      "please enter the first length 2\n",
      "please enter the second length 2\n",
      "please enter the third length 2\n"
     ]
    },
    {
     "name": "stdout",
     "output_type": "stream",
     "text": [
      "1.7320508075688772\n"
     ]
    }
   ],
   "source": [
    "import math\n",
    "a=float(input(\"please enter the first length\"))\n",
    "b=float(input(\"please enter the second length\"))\n",
    "c=float(input(\"please enter the third length\"))\n",
    "s=float((a+b+c)/2)\n",
    "Area=math.sqrt(s*(s-a)*(s-b)*(s-c))\n",
    "print(Area)"
   ]
  },
  {
   "cell_type": "markdown",
   "id": "97bb11cd-e7c3-4509-a1b7-dc71cec843fd",
   "metadata": {},
   "source": [
    "# Question 4\n",
    "Write a program in python to separate odd and even integers in separate arrays. Go \n",
    "to the editor\n",
    "Test Data :\n",
    "Input the number of elements to be stored in the array :5\n",
    "Input 5 elements in the array :\n",
    "element - 0 : 25\n",
    "element - 1 : 47\n",
    "element - 2 : 42\n",
    "element - 3 : 56\n",
    "element - 4 : 32\n",
    "Expected Output:\n",
    "The Even elements are:\n",
    "42 56 32\n",
    "The Odd elements are :\n",
    "25 47\n"
   ]
  },
  {
   "cell_type": "code",
   "execution_count": 129,
   "id": "31d676ef-6e82-49fc-912e-39cac398957a",
   "metadata": {},
   "outputs": [],
   "source": [
    "ab=[25,47,42,56,32]"
   ]
  },
  {
   "cell_type": "markdown",
   "id": "5530709c-8d77-40cd-b564-07b7c064ada6",
   "metadata": {},
   "source": [
    "For even numbers in row"
   ]
  },
  {
   "cell_type": "code",
   "execution_count": 41,
   "id": "d1a0d485-85c4-40a7-a804-49e4fea01e05",
   "metadata": {},
   "outputs": [
    {
     "name": "stdout",
     "output_type": "stream",
     "text": [
      "42 56 32 "
     ]
    }
   ],
   "source": [
    "for i in ab:\n",
    "    if i%2==0:\n",
    "        print(i,end=\" \")"
   ]
  },
  {
   "cell_type": "markdown",
   "id": "e58433d0-5f46-46f5-baf0-5307e40fc672",
   "metadata": {},
   "source": [
    "For odd numbers in row "
   ]
  },
  {
   "cell_type": "code",
   "execution_count": 42,
   "id": "5981504a-887a-4dd9-9afd-574289195578",
   "metadata": {},
   "outputs": [
    {
     "name": "stdout",
     "output_type": "stream",
     "text": [
      "25 47 "
     ]
    }
   ],
   "source": [
    "for o in ab:\n",
    "    if o%2!=0:\n",
    "        print(o,end=\" \")"
   ]
  },
  {
   "cell_type": "markdown",
   "id": "b9c67924-bde5-4e64-a3ae-96f5d84ea53e",
   "metadata": {},
   "source": [
    "# Question 5 \n",
    "a. Write a function inside(x,y,x1,y1,x2,y2) that returns True or False \n",
    "depending on whether the point (x,y) lies in the rectangle with lower left \n",
    "corner (x1,y1) and upper right corner (x2,y2).\n",
    "inside(1,1,0,0,2,3)\n",
    "True\n",
    " inside(-1,-1,0,0,2,3)\n",
    "False\n",
    "\n",
    "b. Use function inside() from part a. to write an expression that tests whether \n",
    "the point (1,1) lies in both of the following rectangles: one with lower left \n",
    "corner (0.3, 0.5) and upper right corner (1.1, 0.7) and the other with lower \n",
    "left corner (0.5, 0.2) and upper right corner (1.1, 2)."
   ]
  },
  {
   "cell_type": "code",
   "execution_count": 58,
   "id": "0fa98d17-7a8e-40b0-af89-9b6ea39a273e",
   "metadata": {},
   "outputs": [
    {
     "name": "stdout",
     "output_type": "stream",
     "text": [
      "True\n",
      "False\n"
     ]
    }
   ],
   "source": [
    "\n",
    "def inside(x,y,x1,y1,x2,y2):\n",
    "    if x1 <= x <=x2 and y1 <= y <= y2:\n",
    "        return True\n",
    "    else:\n",
    "        return False\n",
    "\n",
    "#Test numbers\n",
    "print(inside(1,1,0,0,2,3)) #True\n",
    "print(inside(-1,-1,0,0,2,3)) #False"
   ]
  },
  {
   "cell_type": "code",
   "execution_count": 61,
   "id": "bf303cc8-548f-453f-b76e-b053023a2d15",
   "metadata": {},
   "outputs": [
    {
     "name": "stdout",
     "output_type": "stream",
     "text": [
      "is (1,1) in rect_1? False\n",
      "is (1,1) in rect_2? True\n",
      "is (1,1) in both rect_1 and rect_2? False\n"
     ]
    }
   ],
   "source": [
    "# Define the coordinates of the rectangles\n",
    "rect_1=(0.3,0.5,1.1,0.7)\n",
    "rect_2=(0.5,0.2,1.1,2)\n",
    "# test if point (1,1) lies inside both rectangles\n",
    "point=(1,1)\n",
    "is_in_rect_1=inside(point[0],point[1],rect_1[0],rect_1[1],rect_1[2],rect_1[3])\n",
    "is_in_rect_2=inside(point[0],point[1],rect_2[0],rect_2[1],rect_2[2],rect_2[3])\n",
    "\n",
    "print('is (1,1) in rect_1?' ,is_in_rect_1)\n",
    "print('is (1,1) in rect_2?' ,is_in_rect_2)\n",
    "print('is (1,1) in both rect_1 and rect_2?' ,is_in_rect_1 and is_in_rect_2)"
   ]
  },
  {
   "cell_type": "markdown",
   "id": "51cc0454-8727-4753-b0c4-6767430d4541",
   "metadata": {},
   "source": [
    "# Question 6\n",
    "\n",
    "\r\n",
    "16. You can turn a word into pig-Latin using the following two rules (simplified):\r\n",
    "• If the word starts with a consonant, move that letter to the end and append \r\n",
    "'ay'. For example, 'happy' becomes 'appyhay' and 'pencil' becomes 'encilpay'.\r\n",
    "• If the word starts with a vowel, simply append 'way' to the end of the word. \r\n",
    "For example, 'enter' becomes 'enterway' and 'other' becomes 'otherway' . For \r\n",
    "our purposes, there are 5 vowels: a, e, i, o, u (so we count y as a consonant).\r\n",
    "Write a function pig() that takes a word (i.e., a string) as input and returns its pig\u0002Latin form. Your function should still work if the input word contains upper case characters. Your output should always be lower case however.  pig('happy')'appyhay'pig('Enter') 'enterway'\r\n",
    "'enterway'"
   ]
  },
  {
   "cell_type": "code",
   "execution_count": 51,
   "id": "084afe51-3a50-49ff-809d-a1cdd22c00e2",
   "metadata": {},
   "outputs": [
    {
     "data": {
      "text/plain": [
       "'appyhay'"
      ]
     },
     "execution_count": 51,
     "metadata": {},
     "output_type": "execute_result"
    }
   ],
   "source": [
    "def pig(Latin):\n",
    "    vowels = 'aeiou'\n",
    "    if Latin[0].lower() in vowels:\n",
    "        return Latin.lower() + 'way'\n",
    "    else:\n",
    "        return Latin[1:].lower() + Latin[0].lower() + 'ay'\n",
    "pig('happy')"
   ]
  },
  {
   "cell_type": "code",
   "execution_count": 52,
   "id": "142b55ce-ee68-470e-89c6-87a1e645c26e",
   "metadata": {},
   "outputs": [
    {
     "data": {
      "text/plain": [
       "'enterway'"
      ]
     },
     "execution_count": 52,
     "metadata": {},
     "output_type": "execute_result"
    }
   ],
   "source": [
    "pig('enter')"
   ]
  },
  {
   "cell_type": "markdown",
   "id": "68e5a051-7a0f-4951-840f-06d57c781c6a",
   "metadata": {},
   "source": [
    "# Question 7\n",
    "File bloodtype1.txt records blood-types of patients (A, B, AB, O or OO) at a clinic. \n",
    "Write a function bldcount() that reads the file with name name and reports (i.e., \n",
    "prints) how many patients there are in each bloodtype.\n",
    " bldcount('bloodtype.txt')\n",
    "There are 10 patients of blood type A.\n",
    "There is one patient of blood type B.\n",
    "There are 10 patients of blood type AB.\n",
    "There are 12 patients of blood type O.\n",
    "There are no patients of blood type OO."
   ]
  },
  {
   "cell_type": "code",
   "execution_count": 75,
   "id": "865a3177-1c60-4648-bbf7-434051cba54e",
   "metadata": {},
   "outputs": [
    {
     "name": "stdout",
     "output_type": "stream",
     "text": [
      "There are 15 patients of blood type A.\n",
      "There is one patient of blood type B.\n",
      "There are 13 patients of blood type AB.\n",
      "There are 15 patients of blood type O.\n",
      "There are no patients of blood type OO.\n"
     ]
    }
   ],
   "source": [
    "def bldcount(dataset):\n",
    "    blood_counts = {'A': 0, 'B': 0, 'AB': 0, 'O': 0, 'OO': 0}\n",
    "    with open(dataset, 'r') as data:\n",
    "        contents = data.read()\n",
    "        blood_types = contents.split()\n",
    "        for blood_type in blood_types:\n",
    "            if blood_type in blood_counts:\n",
    "                blood_counts[blood_type] += 1\n",
    "            else:\n",
    "                print(f\"Unknown blood type '{blood_type}' found in the file.\")\n",
    "        for blood_type, count in blood_counts.items():\n",
    "            if count == 1:\n",
    "                        print(f\"There is one patient of blood type {blood_type}.\")\n",
    "            elif count > 1:\n",
    "                        print(f\"There are {count} patients of blood type {blood_type}.\")\n",
    "            else:\n",
    "                        print(f\"There are no patients of blood type {blood_type}.\")\n",
    "                        \n",
    "bldcount('bloodtype1.txt')"
   ]
  },
  {
   "cell_type": "markdown",
   "id": "82f8659d-b6b6-4d97-b44b-ccda3ace1b0c",
   "metadata": {},
   "source": [
    "# Question 8\n",
    "Write a function curconv() that takes as input:\n",
    "1. a currency represented using a string (e.g., 'JPY' for the Japanese Yen or \n",
    "'EUR' for the Euro)\n",
    "2. an amount\n",
    "and then converts and returns the amount in US dollars.\n",
    "curconv('EUR', 100)\n",
    "122.96544\n",
    "curconv('JPY', 100)\n",
    "1.241401\n",
    "The currency rates you will need are stored in file currencies.txt:\n",
    "AUD 1.0345157 Australian Dollar\n",
    "CHF 1.0237414 Swiss Franc\n",
    "CNY 0.1550176 Chinese Yuan\n",
    "DKK 0.1651442 Danish Krone\n",
    "EUR 1.2296544 Euro\n",
    "GBP 1.5550989 British Pound\n",
    "HKD 0.1270207 Hong Kong Dollar\n",
    "INR 0.0177643 Indian Rupee\n",
    "JPY 0.01241401 Japanese Yen\n",
    "MXN 0.0751848 Mexican Peso\n",
    "MYR 0.3145411 Malaysian Ringgit\n",
    "NOK 0.1677063 Norwegian Krone\n",
    "NZD 0.8003591 New Zealand Dollar\n",
    "PHP 0.0233234 Philippine Peso\n",
    "SEK 0.148269 Swedish Krona\n",
    "SGD 0.788871 Singapore Dollar\n",
    "THB 0.0313789 Thai Baht"
   ]
  },
  {
   "cell_type": "code",
   "execution_count": 128,
   "id": "82f7a74d-84e8-49b1-8afc-eed55d360142",
   "metadata": {},
   "outputs": [
    {
     "name": "stdin",
     "output_type": "stream",
     "text": [
      "Enter the currency code:  eur\n",
      "Enter the amount:  500\n"
     ]
    },
    {
     "name": "stdout",
     "output_type": "stream",
     "text": [
      "614.8272000000001\n"
     ]
    }
   ],
   "source": [
    "def curconv():\n",
    "       \n",
    "        with open('currencies.txt', 'r') as file:\n",
    "            lines = file.readlines()\n",
    "\n",
    "       \n",
    "        currency_rates = {}\n",
    "\n",
    "  \n",
    "        for line in lines:\n",
    "            parts = line.split()\n",
    "            code = parts[0]\n",
    "            rate = float(parts[1])\n",
    "            currency_rates[code] = rate\n",
    "\n",
    "        currency = input(\"Enter the currency code: \").upper()\n",
    "        amount = float(input(\"Enter the amount: \"))\n",
    "\n",
    "        \n",
    "        if currency in currency_rates:\n",
    "            # Convert the amount to US dollars using the corresponding rate\n",
    "            usd_amount = amount * currency_rates[currency]\n",
    "            return usd_amount\n",
    "        else:\n",
    "            print(f\"Currency '{currency}' is not found in the file.\")\n",
    "            return None\n",
    "\n",
    "print(curconv())\n"
   ]
  },
  {
   "cell_type": "markdown",
   "id": "6ff7c1c2-adaa-4385-aaf3-07d80a30450d",
   "metadata": {},
   "source": [
    "# Question 9\n",
    "Each of the following will cause an exception (an error). Identify what type of \n",
    "exception each will cause.\n"
   ]
  },
  {
   "cell_type": "code",
   "execution_count": null,
   "id": "aa3ddde1-43bd-4a32-9244-9ece01a268df",
   "metadata": {},
   "outputs": [],
   "source": [
    "a. Trying to add incompatible variables, as in adding 6 + 'a'"
   ]
  },
  {
   "cell_type": "code",
   "execution_count": 122,
   "id": "ebaa547e-b6c4-4814-8597-1954bc5107f5",
   "metadata": {},
   "outputs": [
    {
     "name": "stdout",
     "output_type": "stream",
     "text": [
      "Error: unsupported operand type(s) for +: 'int' and 'str'\n"
     ]
    }
   ],
   "source": [
    "try:\n",
    "    endproduct = 6 + 'a'\n",
    "except TypeError as d:\n",
    "    print(\"Error:\",d)"
   ]
  },
  {
   "cell_type": "markdown",
   "id": "10f91827-6d57-4e5a-91ad-c5be4e3666c2",
   "metadata": {},
   "source": [
    "Error message shows that a TypeError occured  in the instance of adding a string and an integer"
   ]
  },
  {
   "cell_type": "markdown",
   "id": "cfb2fb7c-29a4-469b-838d-092889eecb3b",
   "metadata": {},
   "source": [
    "b. Referring to the 12th item of a list that has only 10 items"
   ]
  },
  {
   "cell_type": "code",
   "execution_count": 123,
   "id": "e1565911-7a77-48f7-a1ce-d7386573555f",
   "metadata": {},
   "outputs": [
    {
     "name": "stdout",
     "output_type": "stream",
     "text": [
      "Error: list index out of range\n"
     ]
    }
   ],
   "source": [
    "try:\n",
    "    the_set = [1,2,3,4,5,6,7,8,9,10]\n",
    "    item = the_set[11]\n",
    "except IndexError as u:\n",
    "    print(\"Error:\",u)"
   ]
  },
  {
   "cell_type": "code",
   "execution_count": null,
   "id": "68b18d0c-b554-45c2-a960-1467a368a032",
   "metadata": {},
   "outputs": [],
   "source": [
    "Error indicates an IndexError that occurs when an index that is not in the list is retrieved"
   ]
  },
  {
   "cell_type": "markdown",
   "id": "e5945fc1-e573-412c-984a-b520d3bdf0d1",
   "metadata": {},
   "source": [
    "c. Using a value that is out of range for a function's input such as calling math.sqrt(-1.0)"
   ]
  },
  {
   "cell_type": "code",
   "execution_count": 124,
   "id": "c19bedc8-f59a-49e7-89a5-4c370f837aed",
   "metadata": {},
   "outputs": [
    {
     "name": "stdout",
     "output_type": "stream",
     "text": [
      "Error: math domain error\n"
     ]
    }
   ],
   "source": [
    "import math\n",
    "\n",
    "try:\n",
    "    endproduct =math.sqrt(-1.0)\n",
    "except ValueError as h:\n",
    "    print(\"Error:\",h)"
   ]
  },
  {
   "cell_type": "markdown",
   "id": "eb55213d-9705-437e-9f6f-4d9ace8dd3df",
   "metadata": {},
   "source": [
    "Calculation of a negative number's square root that is not specified in the  real number system gives an Error"
   ]
  },
  {
   "cell_type": "markdown",
   "id": "28d345b6-159d-4b57-b996-9a30f72a339d",
   "metadata": {},
   "source": [
    "d. Using an undeclared variable, such as print(X) when x has not been defined"
   ]
  },
  {
   "cell_type": "code",
   "execution_count": 125,
   "id": "236358e0-e6a0-41bc-8d72-dbfd3e2acbb1",
   "metadata": {},
   "outputs": [
    {
     "name": "stdout",
     "output_type": "stream",
     "text": [
      "Error: name 'x' is not defined\n"
     ]
    }
   ],
   "source": [
    "try:\n",
    "    print(x)\n",
    "except NameError as x:\n",
    "    print(\"Error:\",x)"
   ]
  },
  {
   "cell_type": "code",
   "execution_count": null,
   "id": "9e2171cd-d60a-4768-95ae-1603c2edf0e1",
   "metadata": {},
   "outputs": [],
   "source": [
    "A name error appears because an undefined name is being calculated"
   ]
  },
  {
   "cell_type": "markdown",
   "id": "c8731bc5-875c-49d3-914b-d13ca9212e2d",
   "metadata": {},
   "source": [
    "e. Trying to open a file that does not exist, such as \n",
    "mistyping the file name or looking in the wrong \n",
    "directory."
   ]
  },
  {
   "cell_type": "code",
   "execution_count": 126,
   "id": "0eb9867b-55f0-4cde-915d-9b77d67e3696",
   "metadata": {},
   "outputs": [
    {
     "ename": "FileNotFoundError",
     "evalue": "[Errno 2] No such file or directory: 'example.txt'",
     "output_type": "error",
     "traceback": [
      "\u001b[1;31m---------------------------------------------------------------------------\u001b[0m",
      "\u001b[1;31mFileNotFoundError\u001b[0m                         Traceback (most recent call last)",
      "Cell \u001b[1;32mIn[126], line 1\u001b[0m\n\u001b[1;32m----> 1\u001b[0m file \u001b[38;5;241m=\u001b[39m \u001b[38;5;28mopen\u001b[39m(\u001b[38;5;124m'\u001b[39m\u001b[38;5;124mexample.txt\u001b[39m\u001b[38;5;124m'\u001b[39m)\n",
      "File \u001b[1;32m~\\AppData\\Local\\anaconda3\\Lib\\site-packages\\IPython\\core\\interactiveshell.py:310\u001b[0m, in \u001b[0;36m_modified_open\u001b[1;34m(file, *args, **kwargs)\u001b[0m\n\u001b[0;32m    303\u001b[0m \u001b[38;5;28;01mif\u001b[39;00m file \u001b[38;5;129;01min\u001b[39;00m {\u001b[38;5;241m0\u001b[39m, \u001b[38;5;241m1\u001b[39m, \u001b[38;5;241m2\u001b[39m}:\n\u001b[0;32m    304\u001b[0m     \u001b[38;5;28;01mraise\u001b[39;00m \u001b[38;5;167;01mValueError\u001b[39;00m(\n\u001b[0;32m    305\u001b[0m         \u001b[38;5;124mf\u001b[39m\u001b[38;5;124m\"\u001b[39m\u001b[38;5;124mIPython won\u001b[39m\u001b[38;5;124m'\u001b[39m\u001b[38;5;124mt let you open fd=\u001b[39m\u001b[38;5;132;01m{\u001b[39;00mfile\u001b[38;5;132;01m}\u001b[39;00m\u001b[38;5;124m by default \u001b[39m\u001b[38;5;124m\"\u001b[39m\n\u001b[0;32m    306\u001b[0m         \u001b[38;5;124m\"\u001b[39m\u001b[38;5;124mas it is likely to crash IPython. If you know what you are doing, \u001b[39m\u001b[38;5;124m\"\u001b[39m\n\u001b[0;32m    307\u001b[0m         \u001b[38;5;124m\"\u001b[39m\u001b[38;5;124myou can use builtins\u001b[39m\u001b[38;5;124m'\u001b[39m\u001b[38;5;124m open.\u001b[39m\u001b[38;5;124m\"\u001b[39m\n\u001b[0;32m    308\u001b[0m     )\n\u001b[1;32m--> 310\u001b[0m \u001b[38;5;28;01mreturn\u001b[39;00m io_open(file, \u001b[38;5;241m*\u001b[39margs, \u001b[38;5;241m*\u001b[39m\u001b[38;5;241m*\u001b[39mkwargs)\n",
      "\u001b[1;31mFileNotFoundError\u001b[0m: [Errno 2] No such file or directory: 'example.txt'"
     ]
    }
   ],
   "source": [
    "file = open('example.txt')"
   ]
  },
  {
   "cell_type": "markdown",
   "id": "9ea57483-9d2b-440d-8409-b3487f75b7b1",
   "metadata": {},
   "source": [
    "In the case of trying to access a file which is not found in the directory or on given path, a FileNotFoundError appears"
   ]
  },
  {
   "cell_type": "markdown",
   "id": "22f541f1-07e3-4402-a2a3-65f1e55e4d1c",
   "metadata": {},
   "source": [
    "# Question 10\n",
    "Encryption is the process of hiding the meaning of a text by substituting letters in the \r\n",
    "message with other letters, according to some system. If the process is successful, no \r\n",
    "one but the intended recipient can understand the encrypted message. Cryptanalysis\r\n",
    "refers to attempts to undo the encryption, even if some details of the encryption are \r\n",
    "unknown (for example, if an encrypted message has been intercepted). The first step \r\n",
    "of cryptanalysis is often to build up a table of letter frequencies in the encrypted text. \r\n",
    "Assume that the string letters is already defined as \r\n",
    "'abcdefghijklmnopqrstuvwxyz'. Write a function called frequencies()\r\n",
    "that takes a string as its only parameter, and returns a list of integers, showing the \r\n",
    "number of times each character appears in the text. Your function may ignore any \r\n",
    "characters that are not in letters. \r\n",
    "frequencies('The quick red fox got bored and went home.')\r\n",
    "[1, 1, 1, 3, 5, 1, 1, 2, 1, 0, 1, 0, 1, 2, 4, 0, 1, 2, 0, 2, \r\n",
    "1, 0, 1, 1, 0, 0]\r\n",
    "frequencies('apple')"
   ]
  },
  {
   "cell_type": "code",
   "execution_count": 120,
   "id": "c26f1058-fcd6-4a1e-8f34-06cf788119f1",
   "metadata": {},
   "outputs": [
    {
     "name": "stdin",
     "output_type": "stream",
     "text": [
      "Enter the text:  The quick red fox got bored and went home\n"
     ]
    },
    {
     "name": "stdout",
     "output_type": "stream",
     "text": [
      "[1, 1, 1, 3, 5, 1, 1, 2, 1, 0, 1, 0, 1, 2, 4, 0, 1, 2, 0, 3, 1, 0, 1, 1, 0, 0]\n"
     ]
    },
    {
     "name": "stdin",
     "output_type": "stream",
     "text": [
      "Enter the text:  apple\n"
     ]
    },
    {
     "name": "stdout",
     "output_type": "stream",
     "text": [
      "[1, 0, 0, 0, 1, 0, 0, 0, 0, 0, 0, 1, 0, 0, 0, 2, 0, 0, 0, 0, 0, 0, 0, 0, 0, 0]\n"
     ]
    }
   ],
   "source": [
    "def frequencies(text):\n",
    "   \n",
    "    letters = 'abcdefghijklmnopqrstuvwxyz'\n",
    "   \n",
    "   \n",
    "    frequency_list = [0] * 26\n",
    "  \n",
    "    text = text.lower()\n",
    "  \n",
    "    for char in text:\n",
    "      \n",
    "        if char in letters:\n",
    "           \n",
    "            index = letters.index(char)\n",
    "            frequency_list[index] += 1\n",
    "   \n",
    "    return frequency_list\n",
    "\n",
    "\n",
    "text1 = input(\"Enter the text: \")\n",
    "print(frequencies(text1))\n",
    "text2 = input(\"Enter the text: \")\n",
    "print(frequencies(text2))"
   ]
  }
 ],
 "metadata": {
  "kernelspec": {
   "display_name": "Python 3 (ipykernel)",
   "language": "python",
   "name": "python3"
  },
  "language_info": {
   "codemirror_mode": {
    "name": "ipython",
    "version": 3
   },
   "file_extension": ".py",
   "mimetype": "text/x-python",
   "name": "python",
   "nbconvert_exporter": "python",
   "pygments_lexer": "ipython3",
   "version": "3.11.7"
  }
 },
 "nbformat": 4,
 "nbformat_minor": 5
}
